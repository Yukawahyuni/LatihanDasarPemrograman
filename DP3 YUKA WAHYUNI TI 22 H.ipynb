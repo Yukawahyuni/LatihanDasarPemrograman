{
 "cells": [
  {
   "cell_type": "markdown",
   "id": "62c3efc4",
   "metadata": {},
   "source": [
    "## Dasar Pemrograman 3\n",
    "### Tugas no.1 Jenis jenis tipe data dan contohnya dengan bahasa pemrograman\n",
    "\n",
    "\n",
    "1. Boolean Menyatakan benar True yang bernilai 1, atau salah False yang bernilai 0\n",
    "2. String Menyatakan karakter/kalimat bisa berupa huruf angka, dll (diapit tanda \" atau ') contohnya \"ayo belajar python\"\n",
    "3. Integer Menyatakan bilangan bulat contohnya 20 atau 130\n",
    "4. Float Menyatakan bilangan yang mempunyai koma contohnya 3,12 atau 9,99\n",
    "5. Hexadecimal Menyatakan bilangan dalam format heksa (bilangan berbasis 16) contohnya 9 atau 1d3\n",
    "6. Complex Menyatakan pasangan angka real dan imajiner contohnya 1 + 5j\n",
    "7. List\tData untaian yang menyimpan berbagai tipe data dan isinya bisa diubah-ubah contahnya ['xyz', 768,2.23]\n",
    "8. Tuple Data untaian yang menyimpan berbagai tipe data tapi isinya tidak bisa diubah contohnya ('xyz,768,2.23)\n",
    "9. Dictionary Data untaian yang menyimpan berbagai tipe data berupa pasangan penunjuk dan nilai contohnya {'nama':'adi','id';2}"
   ]
  },
  {
   "cell_type": "code",
   "execution_count": 1,
   "id": "88c1a154",
   "metadata": {},
   "outputs": [
    {
     "name": "stdout",
     "output_type": "stream",
     "text": [
      "True\n",
      "Ayo belajar Python\n",
      "Belajar Python Sangat Mudah\n",
      "20\n",
      "3.14\n",
      "9\n",
      "5j\n",
      "[1, 2, 3, 4, 5]\n",
      "['satu', 'dua', 'tiga']\n",
      "(1, 2, 3, 4, 5)\n",
      "('satu', 'dua', 'tiga')\n",
      "{'nama': 'Yuka', 'umur': 19}\n",
      "{'nama': 'Yuka', 'umur': 19}\n",
      "<class 'dict'>\n"
     ]
    }
   ],
   "source": [
    "#tipe data Boolean\n",
    "print(True)\n",
    "\n",
    "#tipe data String\n",
    "print(\"Ayo belajar Python\")\n",
    "print('Belajar Python Sangat Mudah')\n",
    "\n",
    "#tipe data Integer\n",
    "print(20)\n",
    "\n",
    "#tipe data Float\n",
    "print(3.14)\n",
    "\n",
    "#tipe data Hexadecimal\n",
    "print(9)\n",
    "\n",
    "#tipe data Complex\n",
    "print(5j)\n",
    "\n",
    "#tipe data List\n",
    "print([1,2,3,4,5])\n",
    "print([\"satu\", \"dua\", \"tiga\"])\n",
    "\n",
    "#tipe data Tuple\n",
    "print((1,2,3,4,5))\n",
    "print((\"satu\", \"dua\", \"tiga\"))\n",
    "\n",
    "#tipe data Dictionary\n",
    "print({\"nama\":\"Yuka\", 'umur':19})\n",
    "#tipe data Dictionary dimasukan ke dalam variabel biodata\n",
    "biodata = {\"nama\":\"Yuka\", 'umur':19} #proses inisialisasi variabel biodata\n",
    "print(biodata) #proses pencetakan variabel biodata yang berisi tipe data Dictionary\n",
    "print(type(biodata)) #fungsi untuk mengecek jenis tipe data. akan tampil <class 'dict'> yang berarti dict adalah tipe data dictionary"
   ]
  },
  {
   "cell_type": "markdown",
   "id": "4b96aa2f",
   "metadata": {},
   "source": [
    "### Tugas no.2 membuat komentar Nama, Nomor telepon NIM menggunakan python\n",
    "### dikarenakan tidak perlu adanya inputan, langsung membuat output"
   ]
  },
  {
   "cell_type": "code",
   "execution_count": 2,
   "id": "5a7a19b2",
   "metadata": {},
   "outputs": [
    {
     "name": "stdout",
     "output_type": "stream",
     "text": [
      "YUKA WAHYUNI\n",
      "0855209749113\n",
      "202200400125\n"
     ]
    }
   ],
   "source": [
    "#output nama \n",
    "print(\"YUKA WAHYUNI\")\n",
    "#output no hp\n",
    "print(\"0855209749113\")\n",
    "#output nim\n",
    "print(\"202200400125\")"
   ]
  },
  {
   "cell_type": "markdown",
   "id": "8ac074af",
   "metadata": {},
   "source": [
    "### Tugas no.3 diketahui terdapat 3 buah angka, angka pertama adalah 5000, angka kedua adalah 2000, dan angka ketiga adalah 200. Selanjutnya tambahkan 500 pada angka pertama dan kedua, kemudian hasilnya angka pertama ditambah angka kedua dikurangi angka ketiga."
   ]
  },
  {
   "cell_type": "code",
   "execution_count": 3,
   "id": "609cd11d",
   "metadata": {},
   "outputs": [
    {
     "name": "stdout",
     "output_type": "stream",
     "text": [
      "Hasil Hitung:  7800\n"
     ]
    }
   ],
   "source": [
    "#membuat sebuah pemrograman sederhana hasil dari (angka 1+5000)+(angka2+500)-200\n",
    "#diketahui angka1 = 5000, angka2 = 2000 dan angka3 = 200\n",
    "\n",
    "#deklarasi variabel\n",
    "#500 dijadikan variabel a agar mudah\n",
    "angka1 = 5000\n",
    "angka2 = 2000\n",
    "angka3 = 200\n",
    "a = 500\n",
    "\n",
    "#membuat rumus yang dimana kita sebut saja \"hasil\"\n",
    "hasil = (angka1+a)+(angka2+a)-angka3\n",
    "\n",
    "#membuat output atau tampilan saat program dijalankan\n",
    "print(\"Hasil Hitung: \",hasil)"
   ]
  },
  {
   "cell_type": "markdown",
   "id": "33bed599",
   "metadata": {},
   "source": [
    "### Tugas no.4 buatlah aplikasi dengan python untuk mencari keliling lingkaran dan volume kubus\n",
    "### A. Keliling Lingkaran"
   ]
  },
  {
   "cell_type": "code",
   "execution_count": 4,
   "id": "8d022cdc",
   "metadata": {},
   "outputs": [
    {
     "name": "stdout",
     "output_type": "stream",
     "text": [
      "Masukan jari-jari =7\n",
      "keliling lingkaran =  43.982297150257104\n"
     ]
    }
   ],
   "source": [
    "#program menghitung keliling lingkaran \n",
    "\n",
    "#import 'math' agar 'pi' mempunyai nilai\n",
    "import math\n",
    "\n",
    "#membuat inputan jari-jari berupa float\n",
    "r= float(input(\"Masukan jari-jari =\"))\n",
    "\n",
    "#membuat rumus keliling\n",
    "keliling = 2*math.pi*r\n",
    "\n",
    "#membuat output\n",
    "print (\"keliling lingkaran = \",keliling)"
   ]
  },
  {
   "cell_type": "markdown",
   "id": "bf516e06",
   "metadata": {},
   "source": [
    "### B. Volume Kubus"
   ]
  },
  {
   "cell_type": "code",
   "execution_count": 5,
   "id": "3872991c",
   "metadata": {},
   "outputs": [
    {
     "name": "stdout",
     "output_type": "stream",
     "text": [
      "program menghitung volume kubus\n",
      "masukan sisi :4\n",
      "volume kubus adalah : 64.0\n"
     ]
    }
   ],
   "source": [
    "print(\"program menghitung volume kubus\")\n",
    "sisi = float (input(\"masukan sisi :\"))\n",
    "hasil = sisi*sisi*sisi\n",
    "print(\"volume kubus adalah : \" + str(hasil))"
   ]
  },
  {
   "cell_type": "code",
   "execution_count": null,
   "id": "a2307a84",
   "metadata": {},
   "outputs": [],
   "source": []
  }
 ],
 "metadata": {
  "kernelspec": {
   "display_name": "Python 3 (ipykernel)",
   "language": "python",
   "name": "python3"
  },
  "language_info": {
   "codemirror_mode": {
    "name": "ipython",
    "version": 3
   },
   "file_extension": ".py",
   "mimetype": "text/x-python",
   "name": "python",
   "nbconvert_exporter": "python",
   "pygments_lexer": "ipython3",
   "version": "3.9.12"
  }
 },
 "nbformat": 4,
 "nbformat_minor": 5
}
